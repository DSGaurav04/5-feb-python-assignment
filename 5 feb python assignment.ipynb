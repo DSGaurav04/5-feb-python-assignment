{
 "cells": [
  {
   "cell_type": "markdown",
   "id": "2a288cfb-2b2b-4f9b-a060-d609d9dc62a8",
   "metadata": {},
   "source": [
    "Q1. Explain Class and Object with respect to Object-Oriented Programming. Give a suitable example."
   ]
  },
  {
   "cell_type": "raw",
   "id": "da609b26-3a74-468d-9f3b-ef68a372491c",
   "metadata": {},
   "source": [
    "\n",
    "In object-oriented programming (OOP), a class is a blueprint for creating objects (instances). It defines the properties (attributes) and behaviors (methods) that objects of that class will have. An object, on the other hand, is an instance of a class. It is a concrete entity that exists in memory and can be manipulated."
   ]
  },
  {
   "cell_type": "code",
   "execution_count": 3,
   "id": "bbe88dcd-61a8-4eed-a78e-608355ccd5e2",
   "metadata": {},
   "outputs": [
    {
     "name": "stdout",
     "output_type": "stream",
     "text": [
      "Toyota\n",
      "Accord\n",
      "Toyota Camry engine started.\n",
      "Honda Accord engine stopped.\n"
     ]
    }
   ],
   "source": [
    "class Car:\n",
    "    def __init__(self, brand, model, year):\n",
    "        self.brand = brand\n",
    "        self.model = model\n",
    "        self.year = year\n",
    "        self.is_running = False\n",
    "\n",
    "    def start_engine(self):\n",
    "        self.is_running = True\n",
    "        print(f\"{self.brand} {self.model} engine started.\")\n",
    "\n",
    "    def stop_engine(self):\n",
    "        self.is_running = False\n",
    "        print(f\"{self.brand} {self.model} engine stopped.\")\n",
    "\n",
    "\n",
    "# Creating objects (instances) of the Car class\n",
    "car1 = Car(\"Toyota\", \"Camry\", 2020)\n",
    "car2 = Car(\"Honda\", \"Accord\", 2018)\n",
    "\n",
    "# Accessing object attributes\n",
    "print(car1.brand)  # Output: Toyota\n",
    "print(car2.model)  # Output: Accord\n",
    "\n",
    "# Calling object methods\n",
    "car1.start_engine()  # Output: Toyota Camry engine started.\n",
    "car2.stop_engine()   # Output: Honda Accord engine stopped.\n"
   ]
  },
  {
   "cell_type": "code",
   "execution_count": null,
   "id": "6079ea65-02c9-43bc-bf76-4eade7bff1a2",
   "metadata": {},
   "outputs": [],
   "source": []
  },
  {
   "cell_type": "markdown",
   "id": "34046464-7162-413f-97d6-0e8a404193c9",
   "metadata": {},
   "source": [
    "Q2. Name the four pillars of OOPs."
   ]
  },
  {
   "cell_type": "raw",
   "id": "c37e2d15-7ada-44ec-9dc8-bcd60739cef6",
   "metadata": {},
   "source": [
    "1)Encapsulation: Encapsulation refers to the bundling of data (attributes) and methods (functions) that operate on the data into a single unit, i.e., a class. It allows for the hiding of implementation details and protects the data from external interference.\n",
    "\n",
    "2)Abstraction: Abstraction involves the concept of hiding complex implementation details and showing only the essential features of an object. It focuses on what an object does rather than how it does it, allowing users to interact with objects without needing to understand their internal workings.\n",
    "\n",
    "3)Inheritance: Inheritance is the mechanism by which a class can acquire the properties (attributes and methods) of another class. It promotes code reusability and establishes a hierarchical relationship between classes, where subclasses (derived classes) can inherit from superclasses (base classes) and extend or override their functionality.\n",
    "\n",
    "4)Polymorphism: Polymorphism refers to the ability of objects to take on multiple forms or behaviors depending on the context. It allows different classes to be treated as instances of a common superclass, enabling code to work with objects of different types through a single interface. Polymorphism is achieved through method overriding and method overloading."
   ]
  },
  {
   "cell_type": "code",
   "execution_count": null,
   "id": "ad6ef668-6cc2-436a-8c55-d9c2803f3963",
   "metadata": {},
   "outputs": [],
   "source": []
  },
  {
   "cell_type": "markdown",
   "id": "a0c812d7-c11d-4954-b1fd-7ab71fe053cf",
   "metadata": {},
   "source": [
    "Q3. Explain why the __init__() function is used. Give a suitable example."
   ]
  },
  {
   "cell_type": "raw",
   "id": "7e73718d-614f-4297-bc0c-fde12f359d97",
   "metadata": {},
   "source": [
    "\n",
    "The __init__() function is a special method in Python classes used for initializing new objects. It is called automatically when a new instance of the class is created. The primary purpose of the __init__() method is to set up initial values for the object's attributes or perform any necessary initialization tasks."
   ]
  },
  {
   "cell_type": "code",
   "execution_count": 4,
   "id": "8c3ff354-0b7f-4003-bb5f-c4af43209160",
   "metadata": {},
   "outputs": [
    {
     "name": "stdout",
     "output_type": "stream",
     "text": [
      "My name is Alice and I am 30 years old.\n",
      "My name is Bob and I am 25 years old.\n"
     ]
    }
   ],
   "source": [
    "class Person:\n",
    "    def __init__(self, name, age):\n",
    "        self.name = name\n",
    "        self.age = age\n",
    "\n",
    "    def introduce(self):\n",
    "        print(f\"My name is {self.name} and I am {self.age} years old.\")\n",
    "\n",
    "\n",
    "# Creating objects (instances) of the Person class\n",
    "person1 = Person(\"Alice\", 30)\n",
    "person2 = Person(\"Bob\", 25)\n",
    "\n",
    "# Accessing object attributes and calling object methods\n",
    "person1.introduce()  # Output: My name is Alice and I am 30 years old.\n",
    "person2.introduce()  # Output: My name is Bob and I am 25 years old.\n"
   ]
  },
  {
   "cell_type": "code",
   "execution_count": null,
   "id": "340b25ce-965b-486b-99ee-c49f41b90e4e",
   "metadata": {},
   "outputs": [],
   "source": []
  },
  {
   "cell_type": "markdown",
   "id": "124829d2-869b-4405-a057-d08b3a8cf14e",
   "metadata": {},
   "source": [
    "Q4. Why self is used in OOPs?"
   ]
  },
  {
   "cell_type": "raw",
   "id": "27cd33ac-47c4-421e-942c-ecf6f4d94742",
   "metadata": {},
   "source": [
    "In object-oriented programming (OOP), self is a reference to the current instance of the class. It is a convention used in Python to represent the instance object itself within the class definition. The use of self allows instance methods to access and manipulate the attributes and methods of the object to which they belong.\n",
    "\n",
    "Here's why self is used in OOP:\n",
    "\n",
    "Accessing Instance Attributes: Within the methods of a class, self is used to access instance attributes. It allows methods to read and modify the state of the object's attributes.\n",
    "\n",
    "Invoking Instance Methods: self is used to invoke other instance methods within a class. It allows methods to call other methods on the same object.\n",
    "\n",
    "Differentiating Instance Attributes and Local Variables: By using self to access instance attributes, you can distinguish them from local variables or method parameters with the same name. This helps avoid confusion and ensures proper scoping.\n",
    "\n",
    "Enabling Method Chaining: Method chaining is a programming technique where multiple methods are called sequentially on the same object. By returning self from methods, you can chain method calls together, which can lead to more concise and readable code."
   ]
  },
  {
   "cell_type": "code",
   "execution_count": null,
   "id": "a061f410-c787-437a-bc72-e0153f1f38fc",
   "metadata": {},
   "outputs": [],
   "source": []
  },
  {
   "cell_type": "markdown",
   "id": "dee6bbe0-24e1-4c8c-bca5-e5ed997537f3",
   "metadata": {},
   "source": [
    "Q5. What is inheritance? Give an example for each type of inheritance."
   ]
  },
  {
   "cell_type": "raw",
   "id": "60c21dfa-1dfc-48b7-99cc-9356773b2288",
   "metadata": {},
   "source": [
    "\n",
    "Inheritance is a fundamental concept in object-oriented programming (OOP) where a class (subclass or derived class) can inherit attributes and methods from another class (superclass or base class). This allows for code reuse and promotes the establishment of hierarchical relationships between classes.\n",
    "\n",
    "There are several types of inheritance:\n",
    "\n",
    "1)Single Inheritance: In single inheritance, a subclass inherits from only one superclass."
   ]
  },
  {
   "cell_type": "code",
   "execution_count": 5,
   "id": "54110b1f-51be-4997-8042-918704ec5c1e",
   "metadata": {},
   "outputs": [
    {
     "name": "stdout",
     "output_type": "stream",
     "text": [
      "Animal speaks\n",
      "Dog barks\n"
     ]
    }
   ],
   "source": [
    "class Animal:\n",
    "    def speak(self):\n",
    "        print(\"Animal speaks\")\n",
    "\n",
    "class Dog(Animal):\n",
    "    def bark(self):\n",
    "        print(\"Dog barks\")\n",
    "\n",
    "# Creating an instance of Dog\n",
    "dog = Dog()\n",
    "dog.speak()  # Output: Animal speaks\n",
    "dog.bark()   # Output: Dog barks\n"
   ]
  },
  {
   "cell_type": "raw",
   "id": "70134245-47d3-4ae8-acb4-aa1c5f78eea7",
   "metadata": {},
   "source": [
    "2)Multiple Inheritance: In multiple inheritance, a subclass inherits from multiple superclasses."
   ]
  },
  {
   "cell_type": "code",
   "execution_count": 6,
   "id": "519be140-5f31-4a8b-8d1d-7628a2fb3ef7",
   "metadata": {},
   "outputs": [
    {
     "name": "stdout",
     "output_type": "stream",
     "text": [
      "Method1 from Parent1\n",
      "Method2 from Parent2\n"
     ]
    }
   ],
   "source": [
    "class Parent1:\n",
    "    def method1(self):\n",
    "        print(\"Method1 from Parent1\")\n",
    "\n",
    "class Parent2:\n",
    "    def method2(self):\n",
    "        print(\"Method2 from Parent2\")\n",
    "\n",
    "class Child(Parent1, Parent2):\n",
    "    pass\n",
    "\n",
    "# Creating an instance of Child\n",
    "child = Child()\n",
    "child.method1()  # Output: Method1 from Parent1\n",
    "child.method2()  # Output: Method2 from Parent2\n"
   ]
  },
  {
   "cell_type": "raw",
   "id": "2d6f0014-3037-4c5b-b803-07e655f8eaa6",
   "metadata": {},
   "source": [
    "3)Multilevel Inheritance: In multilevel inheritance, a subclass inherits from another subclass, creating a chain of inheritance."
   ]
  },
  {
   "cell_type": "code",
   "execution_count": 7,
   "id": "6a64baef-79fb-49ec-9675-dd6660d83233",
   "metadata": {},
   "outputs": [
    {
     "name": "stdout",
     "output_type": "stream",
     "text": [
      "Method1 from A\n",
      "Method2 from B\n"
     ]
    }
   ],
   "source": [
    "class A:\n",
    "    def method1(self):\n",
    "        print(\"Method1 from A\")\n",
    "\n",
    "class B(A):\n",
    "    def method2(self):\n",
    "        print(\"Method2 from B\")\n",
    "\n",
    "class C(B):\n",
    "    pass\n",
    "\n",
    "# Creating an instance of C\n",
    "c = C()\n",
    "c.method1()  # Output: Method1 from A\n",
    "c.method2()  # Output: Method2 from B\n"
   ]
  },
  {
   "cell_type": "raw",
   "id": "7473962b-834b-459a-8f98-2ddcf3359067",
   "metadata": {},
   "source": []
  }
 ],
 "metadata": {
  "kernelspec": {
   "display_name": "Python 3 (ipykernel)",
   "language": "python",
   "name": "python3"
  },
  "language_info": {
   "codemirror_mode": {
    "name": "ipython",
    "version": 3
   },
   "file_extension": ".py",
   "mimetype": "text/x-python",
   "name": "python",
   "nbconvert_exporter": "python",
   "pygments_lexer": "ipython3",
   "version": "3.11.5"
  }
 },
 "nbformat": 4,
 "nbformat_minor": 5
}
